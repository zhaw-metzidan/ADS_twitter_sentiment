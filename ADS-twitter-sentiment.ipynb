{
 "cells": [
  {
   "cell_type": "markdown",
   "metadata": {},
   "source": [
    "# Twitter Sentiment Analysis\n",
    "# ADS Gruppe 24"
   ]
  },
  {
   "cell_type": "code",
   "execution_count": 34,
   "metadata": {},
   "outputs": [],
   "source": [
    "# initial imports\n",
    "import pandas as pd\n",
    "import spacy\n",
    "spacy.prefer_gpu()\n",
    "# imports for text processing\n",
    "from spacy.tokenizer import _get_regex_pattern\n",
    "from spacy.lang.en.stop_words import STOP_WORDS\n",
    "import zipfile"
   ]
  },
  {
   "cell_type": "code",
   "execution_count": 2,
   "metadata": {},
   "outputs": [
    {
     "name": "stdout",
     "output_type": "stream",
     "text": [
      "Warning: Your Kaggle API key is readable by other users on this system! To fix this, you can run 'chmod 600 /Users/Daniel/.kaggle/kaggle.json'\n",
      "Warning: Your Kaggle API key is readable by other users on this system! To fix this, you can run 'chmod 600 /Users/Daniel/.kaggle/kaggle.json'\n"
     ]
    }
   ],
   "source": [
    "import kaggle\n",
    "# If it doesn't work: \n",
    "# 1) Log into Kaggle -> Account -> Create New API Token (downloads kaggle.json)\n",
    "# 2) (mac only) Press Cmd+Shift+. (period) and place kaggle.json in there \n",
    "# https://www.kaggle.com/docs/api\n",
    "from kaggle.api.kaggle_api_extended import KaggleApi\n",
    "api = KaggleApi()\n",
    "api.authenticate()\n",
    "# Warning about readable file can be ignored"
   ]
  },
  {
   "cell_type": "code",
   "execution_count": 3,
   "metadata": {
    "scrolled": false
   },
   "outputs": [
    {
     "data": {
      "text/plain": [
       "False"
      ]
     },
     "execution_count": 3,
     "metadata": {},
     "output_type": "execute_result"
    }
   ],
   "source": [
    "# Download Tweets from kaggle api (only once)\n",
    "# https://www.kaggle.com/datasets/yasserh/twitter-tweets-sentiment-dataset\n",
    "api.dataset_download_file('yasserh/twitter-tweets-sentiment-dataset', file_name='Tweets.csv')"
   ]
  },
  {
   "cell_type": "code",
   "execution_count": 5,
   "metadata": {},
   "outputs": [],
   "source": [
    "# extract dataset from zip file\n",
    "with zipfile.ZipFile('Tweets.csv.zip', 'r') as zipref:\n",
    "    zipref.extractall()"
   ]
  },
  {
   "cell_type": "code",
   "execution_count": 4,
   "metadata": {
    "scrolled": true
   },
   "outputs": [
    {
     "data": {
      "text/html": [
       "<div>\n",
       "<style scoped>\n",
       "    .dataframe tbody tr th:only-of-type {\n",
       "        vertical-align: middle;\n",
       "    }\n",
       "\n",
       "    .dataframe tbody tr th {\n",
       "        vertical-align: top;\n",
       "    }\n",
       "\n",
       "    .dataframe thead th {\n",
       "        text-align: right;\n",
       "    }\n",
       "</style>\n",
       "<table border=\"1\" class=\"dataframe\">\n",
       "  <thead>\n",
       "    <tr style=\"text-align: right;\">\n",
       "      <th></th>\n",
       "      <th>textID</th>\n",
       "      <th>text</th>\n",
       "      <th>selected_text</th>\n",
       "      <th>sentiment</th>\n",
       "    </tr>\n",
       "  </thead>\n",
       "  <tbody>\n",
       "    <tr>\n",
       "      <th>0</th>\n",
       "      <td>cb774db0d1</td>\n",
       "      <td>I`d have responded, if I were going</td>\n",
       "      <td>I`d have responded, if I were going</td>\n",
       "      <td>neutral</td>\n",
       "    </tr>\n",
       "    <tr>\n",
       "      <th>1</th>\n",
       "      <td>549e992a42</td>\n",
       "      <td>Sooo SAD I will miss you here in San Diego!!!</td>\n",
       "      <td>Sooo SAD</td>\n",
       "      <td>negative</td>\n",
       "    </tr>\n",
       "    <tr>\n",
       "      <th>2</th>\n",
       "      <td>088c60f138</td>\n",
       "      <td>my boss is bullying me...</td>\n",
       "      <td>bullying me</td>\n",
       "      <td>negative</td>\n",
       "    </tr>\n",
       "    <tr>\n",
       "      <th>3</th>\n",
       "      <td>9642c003ef</td>\n",
       "      <td>what interview! leave me alone</td>\n",
       "      <td>leave me alone</td>\n",
       "      <td>negative</td>\n",
       "    </tr>\n",
       "    <tr>\n",
       "      <th>4</th>\n",
       "      <td>358bd9e861</td>\n",
       "      <td>Sons of ****, why couldn`t they put them on t...</td>\n",
       "      <td>Sons of ****,</td>\n",
       "      <td>negative</td>\n",
       "    </tr>\n",
       "  </tbody>\n",
       "</table>\n",
       "</div>"
      ],
      "text/plain": [
       "       textID                                               text  \\\n",
       "0  cb774db0d1                I`d have responded, if I were going   \n",
       "1  549e992a42      Sooo SAD I will miss you here in San Diego!!!   \n",
       "2  088c60f138                          my boss is bullying me...   \n",
       "3  9642c003ef                     what interview! leave me alone   \n",
       "4  358bd9e861   Sons of ****, why couldn`t they put them on t...   \n",
       "\n",
       "                         selected_text sentiment  \n",
       "0  I`d have responded, if I were going   neutral  \n",
       "1                             Sooo SAD  negative  \n",
       "2                          bullying me  negative  \n",
       "3                       leave me alone  negative  \n",
       "4                        Sons of ****,  negative  "
      ]
     },
     "execution_count": 4,
     "metadata": {},
     "output_type": "execute_result"
    }
   ],
   "source": [
    "# Read from downloaded csv\n",
    "original_tweets = pd.read_csv(\"Tweets.csv\")\n",
    "original_tweets.head()"
   ]
  },
  {
   "cell_type": "code",
   "execution_count": 5,
   "metadata": {},
   "outputs": [
    {
     "data": {
      "text/plain": [
       "array(['neutral', 'negative', 'positive'], dtype=object)"
      ]
     },
     "execution_count": 5,
     "metadata": {},
     "output_type": "execute_result"
    }
   ],
   "source": [
    "# All possible sentiment values\n",
    "original_tweets.sentiment.unique()"
   ]
  },
  {
   "cell_type": "code",
   "execution_count": 6,
   "metadata": {
    "scrolled": false
   },
   "outputs": [
    {
     "data": {
      "text/plain": [
       "neutral     11118\n",
       "positive     8582\n",
       "negative     7781\n",
       "Name: sentiment, dtype: int64"
      ]
     },
     "execution_count": 6,
     "metadata": {},
     "output_type": "execute_result"
    }
   ],
   "source": [
    "# Count number of sentiment samples in dataset\n",
    "original_tweets.sentiment.value_counts()"
   ]
  },
  {
   "cell_type": "code",
   "execution_count": 7,
   "metadata": {},
   "outputs": [],
   "source": [
    "original_tweets['text'] = original_tweets.text.astype(str)\n",
    "original_tweets.loc[:, 'sentiment'] = original_tweets.sentiment.map(lambda x: 2 if x == 'positive' else 1 if x == 'neutral' else 0)"
   ]
  },
  {
   "cell_type": "code",
   "execution_count": 8,
   "metadata": {},
   "outputs": [
    {
     "data": {
      "text/plain": [
       "array([1, 0, 2])"
      ]
     },
     "execution_count": 8,
     "metadata": {},
     "output_type": "execute_result"
    }
   ],
   "source": [
    "# All possible sentiment values\n",
    "# compare with previous output\n",
    "original_tweets.sentiment.unique()"
   ]
  },
  {
   "cell_type": "code",
   "execution_count": 9,
   "metadata": {},
   "outputs": [],
   "source": [
    "# Text processing\n",
    "import re \n",
    "import string \n",
    "import nltk\n",
    "from tqdm import tqdm\n",
    "\n",
    "# Preparing list of stop words and punctuations used for text processing\n",
    "# (Quelle: SW7 Übung TextClassification)\n",
    "punctuations = string.punctuation\n",
    "stop_words = spacy.lang.en.stop_words.STOP_WORDS\n",
    "\n",
    "# Function to remove URLs (Quelle: SW7 Übung TextClassification)\n",
    "def remove_urls(text):\n",
    "    text = re.sub(r\"\\S*https?:\\S*\", \"\", text, flags=re.MULTILINE)\n",
    "    return text\n",
    "\n",
    "# Function to remove hashtags (Quelle: SW7 Übung TextClassification)\n",
    "def remove_hashtags(text):\n",
    "    text = re.sub(r\"#\\w+|\\w+-\\w+\", \"\", text, flags=re.MULTILINE)\n",
    "    return text\n",
    "\n",
    "# (Quelle: SW7 Übung TextClassification)\n",
    "# Load English tokenizer, tagger, parser, NER and word vectors\n",
    "nlp =  spacy.load(\"en_core_web_sm\")\n",
    "# get default pattern for tokens that don't get split\n",
    "re_token_match = _get_regex_pattern(nlp.Defaults.token_match)\n",
    "# add your patterns (here: hashtags and in-word hyphens)\n",
    "re_token_match = f\"({re_token_match}|#\\w+|\\w+-\\w+)\"\n",
    "# overwrite token_match function of the tokenizer\n",
    "nlp.tokenizer.token_match = re.compile(re_token_match).match\n",
    "\n",
    "# Remove emojis and non-unicode\n",
    "# (Quelle: https://stackoverflow.com/questions/33404752/removing-emojis-from-a-string-in-python)\n",
    "def remove_emoji_or_non_unicodes(text):\n",
    "    emoji_pattern = re.compile(\"[\"\n",
    "                                u\"\\U0001F600-\\U0001F64F\"  # emoticons\n",
    "                                u\"\\U0001F300-\\U0001F5FF\"  # symbols & pictographs\n",
    "                                u\"\\U0001F680-\\U0001F6FF\"  # transport & map symbols\n",
    "                                u\"\\U0001F1E0-\\U0001F1FF\"  # flags (iOS)\n",
    "                               \"]+\", flags=re.UNICODE)\n",
    "    return emoji_pattern.sub(r'', text)\n",
    "\n",
    "# Creating tokenizer function (Quelle: SW7 Übung TextClassification aber erweitert mit emoji&non-unicode funktion)\n",
    "def spacy_tokenizer(sentence):\n",
    "    \n",
    "    # emoji und nicht unicode entfernen\n",
    "    sentence = remove_emoji_or_non_unicodes(sentence)\n",
    "    \n",
    "    # Creating our token object, which is used to create documents with linguistic annotations.\n",
    "    newtokens = nlp(sentence)\n",
    "\n",
    "    # Lemmatizing each token and converting each token into lowercase\n",
    "    newtokens = [word.lemma_.lower().strip() if (word.pos_ != \"PRON\") & (word.pos_ != \"PROPN\") else word.lemma_.strip() for word in newtokens ]\n",
    "    \n",
    "    # Removing stop words\n",
    "    newtokens = [ word for word in newtokens if word not in stop_words and word not in punctuations ]\n",
    "    \n",
    "    # Remove links\n",
    "    newtokens = [remove_urls(word) for word in newtokens]\n",
    "    \n",
    "    # Remove hashtags\n",
    "    newtokens = [remove_hashtags(word) for word in newtokens]\n",
    "    \n",
    "    # return preprocessed list of tokens\n",
    "    return newtokens"
   ]
  },
  {
   "cell_type": "code",
   "execution_count": 10,
   "metadata": {
    "scrolled": true
   },
   "outputs": [
    {
     "name": "stdout",
     "output_type": "stream",
     "text": [
      "Tweet text:\n",
      "i am living in ignorance  :@\n",
      "\n",
      "Tokanized:\n"
     ]
    },
    {
     "data": {
      "text/plain": [
       "['I', 'live', 'ignorance']"
      ]
     },
     "execution_count": 10,
     "metadata": {},
     "output_type": "execute_result"
    }
   ],
   "source": [
    "# Vorzeige Beispiel 2 mit emoji\n",
    "print('Tweet text:')\n",
    "print(original_tweets.text[527])\n",
    "print('\\nTokanized:')\n",
    "spacy_tokenizer(original_tweets.text.values[527])"
   ]
  },
  {
   "cell_type": "code",
   "execution_count": 11,
   "metadata": {},
   "outputs": [
    {
     "data": {
      "text/plain": [
       "((21984, 4), (5497, 4))"
      ]
     },
     "execution_count": 11,
     "metadata": {},
     "output_type": "execute_result"
    }
   ],
   "source": [
    "# Train test split\n",
    "from sklearn.model_selection import train_test_split\n",
    "\n",
    "# Split the train, test, validation set\n",
    "train_tweets, test_tweets = train_test_split(original_tweets, test_size = 0.2)\n",
    "\n",
    "train_tweets.shape, test_tweets.shape"
   ]
  },
  {
   "cell_type": "code",
   "execution_count": 12,
   "metadata": {
    "scrolled": true
   },
   "outputs": [
    {
     "name": "stderr",
     "output_type": "stream",
     "text": [
      "/var/folders/ms/bdscwb3x6rz1b34v63g367q00000gn/T/ipykernel_6436/2885931097.py:5: UserWarning: Pandas doesn't allow columns to be created via a new attribute name - see https://pandas.pydata.org/pandas-docs/stable/indexing.html#attribute-access\n",
      "  train_tweets.encoded_sentiment = encoder.fit_transform(train_tweets.sentiment)\n",
      "/var/folders/ms/bdscwb3x6rz1b34v63g367q00000gn/T/ipykernel_6436/2885931097.py:8: UserWarning: Pandas doesn't allow columns to be created via a new attribute name - see https://pandas.pydata.org/pandas-docs/stable/indexing.html#attribute-access\n",
      "  test_tweets.encoded_sentiment = encoder.fit_transform(test_tweets.sentiment)\n"
     ]
    }
   ],
   "source": [
    "# Label Encoder for classes in sentiment (Quelle: SW7 Übung TextClassification)\n",
    "from sklearn.preprocessing import LabelEncoder\n",
    "\n",
    "encoder = LabelEncoder()\n",
    "train_tweets.encoded_sentiment = encoder.fit_transform(train_tweets.sentiment)\n",
    "\n",
    "encoder = LabelEncoder()\n",
    "test_tweets.encoded_sentiment = encoder.fit_transform(test_tweets.sentiment)"
   ]
  },
  {
   "cell_type": "code",
   "execution_count": 13,
   "metadata": {},
   "outputs": [],
   "source": [
    "# split into test and train\n",
    "X_train = train_tweets.text\n",
    "X_test = test_tweets.text\n",
    "y_train = train_tweets.sentiment.values\n",
    "y_test = test_tweets.sentiment.values"
   ]
  },
  {
   "cell_type": "code",
   "execution_count": 14,
   "metadata": {},
   "outputs": [],
   "source": [
    "import tensorflow as tf\n",
    "from tensorflow import keras as keras\n",
    "from keras import regularizers"
   ]
  },
  {
   "cell_type": "code",
   "execution_count": 15,
   "metadata": {},
   "outputs": [
    {
     "name": "stderr",
     "output_type": "stream",
     "text": [
      "2022-06-11 17:03:42.948764: I tensorflow/core/platform/cpu_feature_guard.cc:151] This TensorFlow binary is optimized with oneAPI Deep Neural Network Library (oneDNN) to use the following CPU instructions in performance-critical operations:  AVX2 FMA\n",
      "To enable them in other operations, rebuild TensorFlow with the appropriate compiler flags.\n"
     ]
    }
   ],
   "source": [
    "# https://notebooks.githubusercontent.com/view/ipynb?color_mode=auto&commit=c57f070a31d60dccdbab295b3bbd8904b8fd33f9&enc_url=68747470733a2f2f7261772e67697468756275736572636f6e74656e742e636f6d2f676973742f6675726b616e6f7a6261792f33363931613630386131393264326437336437363333383737613437633739372f7261772f633537663037306133316436306463636462616232393562336262643839303462386664333366392f696d6264636c617373696669636174696f6e2d6f6e6c796576616c756174652e6970796e62&logged_in=false&nwo=furkanozbay%2F3691a608a192d2d73d7633877a47c797&path=imbdclassification-onlyevaluate.ipynb&repository_id=110980065&repository_type=Gist\n",
    "# \"maximum number of words in your vocabulary\" -> word vectors\n",
    "max_features = 20000\n",
    "# Length of the output sequences (in number of timesteps)\n",
    "sequence_length = 500\n",
    "\n",
    "dataset=tf.data.Dataset.from_tensor_slices((X_train.values,y_train)).shuffle(100).batch(64).prefetch(tf.data.AUTOTUNE)\n",
    "\n",
    "encoder = keras.layers.TextVectorization(max_tokens=max_features,output_mode=\"int\",output_sequence_length=sequence_length)\n",
    "encoder.adapt(dataset.map(lambda text, label: text))"
   ]
  },
  {
   "cell_type": "code",
   "execution_count": 16,
   "metadata": {
    "scrolled": true
   },
   "outputs": [
    {
     "name": "stdout",
     "output_type": "stream",
     "text": [
      "Model: \"model\"\n",
      "_________________________________________________________________\n",
      " Layer (type)                Output Shape              Param #   \n",
      "=================================================================\n",
      " input_1 (InputLayer)        [(None, 1)]               0         \n",
      "                                                                 \n",
      " text_vectorization (TextVec  (None, 500)              0         \n",
      " torization)                                                     \n",
      "                                                                 \n",
      " embedding (Embedding)       (None, 500, 64)           1280000   \n",
      "                                                                 \n",
      " dropout (Dropout)           (None, 500, 64)           0         \n",
      "                                                                 \n",
      " conv1d (Conv1D)             (None, 494, 128)          57472     \n",
      "                                                                 \n",
      " conv1d_1 (Conv1D)           (None, 488, 128)          114816    \n",
      "                                                                 \n",
      " max_pooling1d (MaxPooling1D  (None, 97, 128)          0         \n",
      " )                                                               \n",
      "                                                                 \n",
      " conv1d_2 (Conv1D)           (None, 91, 64)            57408     \n",
      "                                                                 \n",
      " dense (Dense)               (None, 91, 64)            4160      \n",
      "                                                                 \n",
      " global_max_pooling1d (Globa  (None, 64)               0         \n",
      " lMaxPooling1D)                                                  \n",
      "                                                                 \n",
      " dropout_1 (Dropout)         (None, 64)                0         \n",
      "                                                                 \n",
      " dense_1 (Dense)             (None, 3)                 195       \n",
      "                                                                 \n",
      " predictions (Dense)         (None, 3)                 12        \n",
      "                                                                 \n",
      "=================================================================\n",
      "Total params: 1,514,063\n",
      "Trainable params: 1,514,063\n",
      "Non-trainable params: 0\n",
      "_________________________________________________________________\n",
      "None\n"
     ]
    }
   ],
   "source": [
    "# https://towardsdatascience.com/an-easy-tutorial-about-sentiment-analysis-with-deep-learning-and-keras-2bf52b9cba91\n",
    "# https://www.kaggle.com/code/sounishnath003/twitter-sentiment\n",
    "\n",
    "inputs = keras.Input(shape=(1,), dtype=tf.string)\n",
    "x = encoder(inputs)\n",
    "x = keras.layers.Embedding(max_features, 64) (x)\n",
    "x = keras.layers.Dropout(0.5) (x)\n",
    "x = keras.layers.Conv1D(128, 7, activation='relu') (x)\n",
    "x = keras.layers.Conv1D(128, 7, activation='relu') (x)\n",
    "x = keras.layers.MaxPooling1D(5) (x) \n",
    "x = keras.layers.Conv1D(64, 7, activation='relu') (x)\n",
    "x = keras.layers.Dense(64, activation='relu', kernel_initializer = tf.keras.initializers.he_normal) (x)\n",
    "x = keras.layers.GlobalMaxPooling1D() (x)\n",
    "x = keras.layers.Dropout(0.5) (x)\n",
    "x = keras.layers.Dense(3,activation='softmax') (x)\n",
    "\n",
    "predictions = keras.layers.Dense(3, activation=\"softmax\", name=\"predictions\")(x)\n",
    "model = keras.Model(inputs, predictions)\n",
    "model.compile(loss=keras.losses.SparseCategoricalCrossentropy(), optimizer=\"adam\", metrics=[\"accuracy\"])\n",
    "print(model.summary())"
   ]
  },
  {
   "cell_type": "code",
   "execution_count": 21,
   "metadata": {
    "scrolled": false
   },
   "outputs": [
    {
     "name": "stdout",
     "output_type": "stream",
     "text": [
      "Epoch 1/10\n",
      "687/687 [==============================] - 192s 279ms/step - loss: 1.0518 - accuracy: 0.4395 - val_loss: 0.9608 - val_accuracy: 0.5092\n",
      "Epoch 2/10\n",
      "687/687 [==============================] - 197s 287ms/step - loss: 0.8554 - accuracy: 0.6537 - val_loss: 0.7920 - val_accuracy: 0.6978\n",
      "Epoch 3/10\n",
      "687/687 [==============================] - 198s 288ms/step - loss: 0.7412 - accuracy: 0.7223 - val_loss: 0.7826 - val_accuracy: 0.7011\n",
      "Epoch 4/10\n",
      "687/687 [==============================] - 172s 250ms/step - loss: 0.6873 - accuracy: 0.7504 - val_loss: 0.7890 - val_accuracy: 0.7006\n",
      "Epoch 5/10\n",
      "687/687 [==============================] - 162s 236ms/step - loss: 0.6519 - accuracy: 0.7682 - val_loss: 0.7992 - val_accuracy: 0.7017\n",
      "Epoch 6/10\n",
      "687/687 [==============================] - 161s 234ms/step - loss: 0.6201 - accuracy: 0.7815 - val_loss: 0.7947 - val_accuracy: 0.7004\n",
      "Epoch 7/10\n",
      "687/687 [==============================] - 164s 238ms/step - loss: 0.5803 - accuracy: 0.8012 - val_loss: 0.7895 - val_accuracy: 0.7088\n",
      "Epoch 8/10\n",
      "687/687 [==============================] - 162s 236ms/step - loss: 0.5472 - accuracy: 0.8125 - val_loss: 0.7928 - val_accuracy: 0.7118\n",
      "Epoch 9/10\n",
      "687/687 [==============================] - 162s 236ms/step - loss: 0.5162 - accuracy: 0.8260 - val_loss: 0.7922 - val_accuracy: 0.7082\n",
      "Epoch 10/10\n",
      "687/687 [==============================] - 163s 237ms/step - loss: 0.4900 - accuracy: 0.8341 - val_loss: 0.8449 - val_accuracy: 0.7091\n"
     ]
    }
   ],
   "source": [
    "history = model.fit(X_train, y_train, epochs=10, validation_data=(X_test,y_test))"
   ]
  },
  {
   "cell_type": "code",
   "execution_count": 22,
   "metadata": {
    "scrolled": true
   },
   "outputs": [
    {
     "name": "stdout",
     "output_type": "stream",
     "text": [
      "dict_keys(['loss', 'accuracy', 'val_loss', 'val_accuracy'])\n"
     ]
    }
   ],
   "source": [
    "print(history.history.keys())"
   ]
  },
  {
   "cell_type": "code",
   "execution_count": 23,
   "metadata": {
    "scrolled": true
   },
   "outputs": [
    {
     "name": "stdout",
     "output_type": "stream",
     "text": [
      "accuracy= 0.709114062215754\n",
      "f1= 0.7086540956336392\n",
      "precision= 0.7280460990368033\n",
      "recall= 0.6992194200952316\n"
     ]
    }
   ],
   "source": [
    "# https://www.tensorflow.org/api_docs/python/tf/keras/Model#predict\n",
    "from sklearn import metrics\n",
    "\n",
    "prediction = model.predict(X_test).argmax(axis=1)\n",
    "print('accuracy=', metrics.accuracy_score(y_test, prediction))\n",
    "print('f1=', metrics.f1_score(y_test, prediction, average='macro'))\n",
    "print('precision=', metrics.precision_score(y_test, prediction, average='macro'))\n",
    "print('recall=', metrics.recall_score(y_test, prediction, average='macro'))"
   ]
  },
  {
   "cell_type": "code",
   "execution_count": 62,
   "metadata": {},
   "outputs": [
    {
     "data": {
      "image/png": "[encoded data removed]",
      "text/plain": [
       "<Figure size 432x288 with 1 Axes>"
      ]
     },
     "metadata": {
      "needs_background": "light"
     },
     "output_type": "display_data"
    },
    {
     "data": {
      "image/png": "[encoded data removed]",
      "text/plain": [
       "<Figure size 432x288 with 1 Axes>"
      ]
     },
     "metadata": {
      "needs_background": "light"
     },
     "output_type": "display_data"
    }
   ],
   "source": [
    "# https://machinelearningmastery.com/display-deep-learning-model-training-history-in-keras/\n",
    "import matplotlib.pyplot as plt\n",
    "plt.plot(history.history['accuracy'])\n",
    "plt.plot(history.history['val_accuracy'])\n",
    "plt.title('model accuracy')\n",
    "plt.ylabel('accuracy')\n",
    "plt.xlabel('epoch')\n",
    "plt.legend(['train', 'test'], loc='upper left')\n",
    "plt.savefig('plot/accuracy.png')\n",
    "plt.show()\n",
    "\n",
    "# summarize history for loss\n",
    "plt.plot(history.history['loss'])\n",
    "plt.plot(history.history['val_loss'])\n",
    "plt.title('model loss')\n",
    "plt.ylabel('loss')\n",
    "plt.xlabel('epoch')\n",
    "plt.legend(['train', 'test'], loc='upper left')\n",
    "plt.savefig('plot/loss.png')\n",
    "plt.show()"
   ]
  },
  {
   "cell_type": "code",
   "execution_count": 25,
   "metadata": {
    "scrolled": true
   },
   "outputs": [
    {
     "name": "stderr",
     "output_type": "stream",
     "text": [
      "2022-06-11 17:39:39.712462: W tensorflow/python/util/util.cc:368] Sets are not currently considered sequences, but this may change in the future, so consider avoiding using them.\n"
     ]
    },
    {
     "name": "stdout",
     "output_type": "stream",
     "text": [
      "INFO:tensorflow:Assets written to: ADS_Gruppenarbeit/model/assets\n"
     ]
    }
   ],
   "source": [
    "model.save(\"ADS_Gruppenarbeit/model\")"
   ]
  },
  {
   "cell_type": "code",
   "execution_count": null,
   "metadata": {},
   "outputs": [],
   "source": [
    "#######\n",
    "# Import saved model\n",
    "#######"
   ]
  },
  {
   "cell_type": "code",
   "execution_count": 26,
   "metadata": {},
   "outputs": [
    {
     "name": "stdout",
     "output_type": "stream",
     "text": [
      "Model: \"model\"\n",
      "_________________________________________________________________\n",
      " Layer (type)                Output Shape              Param #   \n",
      "=================================================================\n",
      " input_1 (InputLayer)        [(None, 1)]               0         \n",
      "                                                                 \n",
      " text_vectorization (TextVec  (None, 500)              0         \n",
      " torization)                                                     \n",
      "                                                                 \n",
      " embedding (Embedding)       (None, 500, 64)           1280000   \n",
      "                                                                 \n",
      " dropout (Dropout)           (None, 500, 64)           0         \n",
      "                                                                 \n",
      " conv1d (Conv1D)             (None, 494, 128)          57472     \n",
      "                                                                 \n",
      " conv1d_1 (Conv1D)           (None, 488, 128)          114816    \n",
      "                                                                 \n",
      " max_pooling1d (MaxPooling1D  (None, 97, 128)          0         \n",
      " )                                                               \n",
      "                                                                 \n",
      " conv1d_2 (Conv1D)           (None, 91, 64)            57408     \n",
      "                                                                 \n",
      " dense (Dense)               (None, 91, 64)            4160      \n",
      "                                                                 \n",
      " global_max_pooling1d (Globa  (None, 64)               0         \n",
      " lMaxPooling1D)                                                  \n",
      "                                                                 \n",
      " dropout_1 (Dropout)         (None, 64)                0         \n",
      "                                                                 \n",
      " dense_1 (Dense)             (None, 3)                 195       \n",
      "                                                                 \n",
      " predictions (Dense)         (None, 3)                 12        \n",
      "                                                                 \n",
      "=================================================================\n",
      "Total params: 1,514,063\n",
      "Trainable params: 1,514,063\n",
      "Non-trainable params: 0\n",
      "_________________________________________________________________\n"
     ]
    }
   ],
   "source": [
    "# load model\n",
    "imported_model = tf.keras.models.load_model('ADS_Gruppenarbeit/model')\n",
    "imported_model.summary()"
   ]
  },
  {
   "cell_type": "code",
   "execution_count": null,
   "metadata": {},
   "outputs": [],
   "source": [
    "#######\n",
    "# Import a second datafset with tweets about financial sentiments and evaluate with pretrained model\n",
    "#######"
   ]
  },
  {
   "cell_type": "code",
   "execution_count": 20,
   "metadata": {},
   "outputs": [
    {
     "data": {
      "text/plain": [
       "True"
      ]
     },
     "execution_count": 20,
     "metadata": {},
     "output_type": "execute_result"
    }
   ],
   "source": [
    "# Download Tweets from kaggle api (only once)\n",
    "# https://www.kaggle.com/datasets/sbhatti/financial-sentiment-analysis\n",
    "api.dataset_download_file('sbhatti/financial-sentiment-analysis', file_name='data.csv')"
   ]
  },
  {
   "cell_type": "code",
   "execution_count": 27,
   "metadata": {},
   "outputs": [
    {
     "data": {
      "text/html": [
       "<div>\n",
       "<style scoped>\n",
       "    .dataframe tbody tr th:only-of-type {\n",
       "        vertical-align: middle;\n",
       "    }\n",
       "\n",
       "    .dataframe tbody tr th {\n",
       "        vertical-align: top;\n",
       "    }\n",
       "\n",
       "    .dataframe thead th {\n",
       "        text-align: right;\n",
       "    }\n",
       "</style>\n",
       "<table border=\"1\" class=\"dataframe\">\n",
       "  <thead>\n",
       "    <tr style=\"text-align: right;\">\n",
       "      <th></th>\n",
       "      <th>Sentence</th>\n",
       "      <th>Sentiment</th>\n",
       "    </tr>\n",
       "  </thead>\n",
       "  <tbody>\n",
       "    <tr>\n",
       "      <th>0</th>\n",
       "      <td>The GeoSolutions technology will leverage Bene...</td>\n",
       "      <td>positive</td>\n",
       "    </tr>\n",
       "    <tr>\n",
       "      <th>1</th>\n",
       "      <td>$ESI on lows, down $1.50 to $2.50 BK a real po...</td>\n",
       "      <td>negative</td>\n",
       "    </tr>\n",
       "    <tr>\n",
       "      <th>2</th>\n",
       "      <td>For the last quarter of 2010 , Componenta 's n...</td>\n",
       "      <td>positive</td>\n",
       "    </tr>\n",
       "    <tr>\n",
       "      <th>3</th>\n",
       "      <td>According to the Finnish-Russian Chamber of Co...</td>\n",
       "      <td>neutral</td>\n",
       "    </tr>\n",
       "    <tr>\n",
       "      <th>4</th>\n",
       "      <td>The Swedish buyout firm has sold its remaining...</td>\n",
       "      <td>neutral</td>\n",
       "    </tr>\n",
       "  </tbody>\n",
       "</table>\n",
       "</div>"
      ],
      "text/plain": [
       "                                            Sentence Sentiment\n",
       "0  The GeoSolutions technology will leverage Bene...  positive\n",
       "1  $ESI on lows, down $1.50 to $2.50 BK a real po...  negative\n",
       "2  For the last quarter of 2010 , Componenta 's n...  positive\n",
       "3  According to the Finnish-Russian Chamber of Co...   neutral\n",
       "4  The Swedish buyout firm has sold its remaining...   neutral"
      ]
     },
     "execution_count": 27,
     "metadata": {},
     "output_type": "execute_result"
    }
   ],
   "source": [
    "# Read from downloaded csv\n",
    "new_tweets = pd.read_csv(\"data.csv\")\n",
    "new_tweets.head()"
   ]
  },
  {
   "cell_type": "code",
   "execution_count": 28,
   "metadata": {},
   "outputs": [],
   "source": [
    "new_tweets['text'] = new_tweets.Sentence.astype(str)\n",
    "new_tweets.loc[:, 'sentiment'] = new_tweets.Sentiment.map(lambda x: 2 if x == 'positive' else 1 if x == 'neutral' else 0)"
   ]
  },
  {
   "cell_type": "code",
   "execution_count": 29,
   "metadata": {},
   "outputs": [
    {
     "name": "stdout",
     "output_type": "stream",
     "text": [
      "46/46 [==============================] - 15s 311ms/step - loss: 1.4161 - accuracy: 0.5094\n",
      "test loss, test acc: [1.4161239862442017, 0.5094146132469177]\n"
     ]
    }
   ],
   "source": [
    "results = imported_model.evaluate(new_tweets.Sentence, new_tweets.sentiment, batch_size=128)\n",
    "print(\"test loss, test acc:\", results)"
   ]
  },
  {
   "cell_type": "code",
   "execution_count": 30,
   "metadata": {
    "scrolled": true
   },
   "outputs": [
    {
     "name": "stdout",
     "output_type": "stream",
     "text": [
      "accuracy= 0.5094145840465594\n",
      "f1= 0.3385431464358138\n",
      "precision= 0.4763440105157841\n",
      "recall= 0.37627990102570535\n"
     ]
    }
   ],
   "source": [
    "prediction = imported_model.predict(new_tweets.Sentence).argmax(axis=1)\n",
    "print('accuracy=', metrics.accuracy_score(new_tweets.sentiment, prediction))\n",
    "print('f1=', metrics.f1_score(new_tweets.sentiment, prediction, average='macro'))\n",
    "print('precision=', metrics.precision_score(new_tweets.sentiment, prediction, average='macro'))\n",
    "print('recall=', metrics.recall_score(new_tweets.sentiment, prediction, average='macro'))"
   ]
  },
  {
   "cell_type": "code",
   "execution_count": null,
   "metadata": {},
   "outputs": [],
   "source": [
    "#######\n",
    "# Import a third dataset with different tweets about video games and evaluate with pretrained model\n",
    "#######"
   ]
  },
  {
   "cell_type": "code",
   "execution_count": 31,
   "metadata": {},
   "outputs": [
    {
     "data": {
      "text/plain": [
       "True"
      ]
     },
     "execution_count": 31,
     "metadata": {},
     "output_type": "execute_result"
    }
   ],
   "source": [
    "# Download Tweets from kaggle api (only once)\n",
    "# https://www.kaggle.com/datasets/jp797498e/twitter-entity-sentiment-analysis\n",
    "api.dataset_download_file('jp797498e/twitter-entity-sentiment-analysis', file_name='twitter_training.csv')"
   ]
  },
  {
   "cell_type": "code",
   "execution_count": 35,
   "metadata": {},
   "outputs": [],
   "source": [
    "with zipfile.ZipFile('twitter_training.csv.zip', 'r') as zipref:\n",
    "    zipref.extractall()"
   ]
  },
  {
   "cell_type": "code",
   "execution_count": 51,
   "metadata": {},
   "outputs": [
    {
     "data": {
      "text/html": [
       "<div>\n",
       "<style scoped>\n",
       "    .dataframe tbody tr th:only-of-type {\n",
       "        vertical-align: middle;\n",
       "    }\n",
       "\n",
       "    .dataframe tbody tr th {\n",
       "        vertical-align: top;\n",
       "    }\n",
       "\n",
       "    .dataframe thead th {\n",
       "        text-align: right;\n",
       "    }\n",
       "</style>\n",
       "<table border=\"1\" class=\"dataframe\">\n",
       "  <thead>\n",
       "    <tr style=\"text-align: right;\">\n",
       "      <th></th>\n",
       "      <th>2401</th>\n",
       "      <th>Borderlands</th>\n",
       "      <th>Positive</th>\n",
       "      <th>im getting on borderlands and i will murder you all ,</th>\n",
       "    </tr>\n",
       "  </thead>\n",
       "  <tbody>\n",
       "    <tr>\n",
       "      <th>0</th>\n",
       "      <td>2401</td>\n",
       "      <td>Borderlands</td>\n",
       "      <td>Positive</td>\n",
       "      <td>I am coming to the borders and I will kill you...</td>\n",
       "    </tr>\n",
       "    <tr>\n",
       "      <th>1</th>\n",
       "      <td>2401</td>\n",
       "      <td>Borderlands</td>\n",
       "      <td>Positive</td>\n",
       "      <td>im getting on borderlands and i will kill you ...</td>\n",
       "    </tr>\n",
       "    <tr>\n",
       "      <th>2</th>\n",
       "      <td>2401</td>\n",
       "      <td>Borderlands</td>\n",
       "      <td>Positive</td>\n",
       "      <td>im coming on borderlands and i will murder you...</td>\n",
       "    </tr>\n",
       "    <tr>\n",
       "      <th>3</th>\n",
       "      <td>2401</td>\n",
       "      <td>Borderlands</td>\n",
       "      <td>Positive</td>\n",
       "      <td>im getting on borderlands 2 and i will murder ...</td>\n",
       "    </tr>\n",
       "    <tr>\n",
       "      <th>4</th>\n",
       "      <td>2401</td>\n",
       "      <td>Borderlands</td>\n",
       "      <td>Positive</td>\n",
       "      <td>im getting into borderlands and i can murder y...</td>\n",
       "    </tr>\n",
       "  </tbody>\n",
       "</table>\n",
       "</div>"
      ],
      "text/plain": [
       "   2401  Borderlands  Positive  \\\n",
       "0  2401  Borderlands  Positive   \n",
       "1  2401  Borderlands  Positive   \n",
       "2  2401  Borderlands  Positive   \n",
       "3  2401  Borderlands  Positive   \n",
       "4  2401  Borderlands  Positive   \n",
       "\n",
       "  im getting on borderlands and i will murder you all ,  \n",
       "0  I am coming to the borders and I will kill you...     \n",
       "1  im getting on borderlands and i will kill you ...     \n",
       "2  im coming on borderlands and i will murder you...     \n",
       "3  im getting on borderlands 2 and i will murder ...     \n",
       "4  im getting into borderlands and i can murder y...     "
      ]
     },
     "execution_count": 51,
     "metadata": {},
     "output_type": "execute_result"
    }
   ],
   "source": [
    "# Read from downloaded csv\n",
    "new_tweets = pd.read_csv(\"twitter_training.csv\")\n",
    "new_tweets.head()"
   ]
  },
  {
   "cell_type": "code",
   "execution_count": 53,
   "metadata": {},
   "outputs": [
    {
     "data": {
      "text/html": [
       "<div>\n",
       "<style scoped>\n",
       "    .dataframe tbody tr th:only-of-type {\n",
       "        vertical-align: middle;\n",
       "    }\n",
       "\n",
       "    .dataframe tbody tr th {\n",
       "        vertical-align: top;\n",
       "    }\n",
       "\n",
       "    .dataframe thead th {\n",
       "        text-align: right;\n",
       "    }\n",
       "</style>\n",
       "<table border=\"1\" class=\"dataframe\">\n",
       "  <thead>\n",
       "    <tr style=\"text-align: right;\">\n",
       "      <th></th>\n",
       "      <th>Nr.</th>\n",
       "      <th>Game</th>\n",
       "      <th>sentiment</th>\n",
       "      <th>text</th>\n",
       "    </tr>\n",
       "  </thead>\n",
       "  <tbody>\n",
       "    <tr>\n",
       "      <th>0</th>\n",
       "      <td>2401</td>\n",
       "      <td>Borderlands</td>\n",
       "      <td>Positive</td>\n",
       "      <td>I am coming to the borders and I will kill you...</td>\n",
       "    </tr>\n",
       "    <tr>\n",
       "      <th>1</th>\n",
       "      <td>2401</td>\n",
       "      <td>Borderlands</td>\n",
       "      <td>Positive</td>\n",
       "      <td>im getting on borderlands and i will kill you ...</td>\n",
       "    </tr>\n",
       "    <tr>\n",
       "      <th>2</th>\n",
       "      <td>2401</td>\n",
       "      <td>Borderlands</td>\n",
       "      <td>Positive</td>\n",
       "      <td>im coming on borderlands and i will murder you...</td>\n",
       "    </tr>\n",
       "    <tr>\n",
       "      <th>3</th>\n",
       "      <td>2401</td>\n",
       "      <td>Borderlands</td>\n",
       "      <td>Positive</td>\n",
       "      <td>im getting on borderlands 2 and i will murder ...</td>\n",
       "    </tr>\n",
       "    <tr>\n",
       "      <th>4</th>\n",
       "      <td>2401</td>\n",
       "      <td>Borderlands</td>\n",
       "      <td>Positive</td>\n",
       "      <td>im getting into borderlands and i can murder y...</td>\n",
       "    </tr>\n",
       "  </tbody>\n",
       "</table>\n",
       "</div>"
      ],
      "text/plain": [
       "    Nr.         Game sentiment  \\\n",
       "0  2401  Borderlands  Positive   \n",
       "1  2401  Borderlands  Positive   \n",
       "2  2401  Borderlands  Positive   \n",
       "3  2401  Borderlands  Positive   \n",
       "4  2401  Borderlands  Positive   \n",
       "\n",
       "                                                text  \n",
       "0  I am coming to the borders and I will kill you...  \n",
       "1  im getting on borderlands and i will kill you ...  \n",
       "2  im coming on borderlands and i will murder you...  \n",
       "3  im getting on borderlands 2 and i will murder ...  \n",
       "4  im getting into borderlands and i can murder y...  "
      ]
     },
     "execution_count": 53,
     "metadata": {},
     "output_type": "execute_result"
    }
   ],
   "source": [
    "# rename column because dataframe does not have a proper header column. (deletes first column values)\n",
    "new_tweets.columns = ['Nr.', 'Game', 'sentiment', 'text']\n",
    "new_tweets.head()"
   ]
  },
  {
   "cell_type": "code",
   "execution_count": 55,
   "metadata": {},
   "outputs": [],
   "source": [
    "new_tweets['text'] = new_tweets.text.astype(str)\n",
    "new_tweets.loc[:, 'sentiment'] = new_tweets.sentiment.map(lambda x: 2 if x == 'Positive' else 1 if x == 'Neutral' else 0)"
   ]
  },
  {
   "cell_type": "code",
   "execution_count": 57,
   "metadata": {},
   "outputs": [
    {
     "name": "stdout",
     "output_type": "stream",
     "text": [
      "584/584 [==============================] - 178s 304ms/step - loss: 1.7337 - accuracy: 0.4138\n",
      "test loss, test acc: [1.7336560487747192, 0.41377323865890503]\n"
     ]
    }
   ],
   "source": [
    "results = imported_model.evaluate(new_tweets.text, new_tweets.sentiment, batch_size=128)\n",
    "print(\"test loss, test acc:\", results)"
   ]
  },
  {
   "cell_type": "code",
   "execution_count": 60,
   "metadata": {},
   "outputs": [
    {
     "name": "stdout",
     "output_type": "stream",
     "text": [
      "accuracy= 0.4137732488852586\n",
      "f1= 0.4207424218272211\n",
      "precision= 0.4821725700757064\n",
      "recall= 0.45383119221288576\n"
     ]
    }
   ],
   "source": [
    "prediction = imported_model.predict(new_tweets.text).argmax(axis=1)\n",
    "print('accuracy=', metrics.accuracy_score(new_tweets.sentiment, prediction))\n",
    "print('f1=', metrics.f1_score(new_tweets.sentiment, prediction, average='macro'))\n",
    "print('precision=', metrics.precision_score(new_tweets.sentiment, prediction, average='macro'))\n",
    "print('recall=', metrics.recall_score(new_tweets.sentiment, prediction, average='macro'))"
   ]
  },
  {
   "cell_type": "code",
   "execution_count": null,
   "metadata": {},
   "outputs": [],
   "source": []
  },
  {
   "cell_type": "code",
   "execution_count": null,
   "metadata": {},
   "outputs": [],
   "source": [
    "# experimental"
   ]
  },
  {
   "cell_type": "code",
   "execution_count": 72,
   "metadata": {},
   "outputs": [],
   "source": [
    "# roc curve (unfinished)\n",
    "# https://scikit-learn.org/stable/visualizations.html\n",
    "\n",
    "#from sklearn.metrics import RocCurveDisplay\n",
    "#from sklearn.svm import SVC\n",
    "#svc = SVC(random_state=42)\n",
    "#svc.fit(y_train, y_test)\n",
    "#svc_disp = RocCurveDisplay.from_estimator(svc, y_train, y_test)"
   ]
  },
  {
   "cell_type": "code",
   "execution_count": null,
   "metadata": {},
   "outputs": [],
   "source": []
  }
 ],
 "metadata": {
  "kernelspec": {
   "display_name": "Python 3 (ipykernel)",
   "language": "python",
   "name": "python3"
  },
  "language_info": {
   "codemirror_mode": {
    "name": "ipython",
    "version": 3
   },
   "file_extension": ".py",
   "mimetype": "text/x-python",
   "name": "python",
   "nbconvert_exporter": "python",
   "pygments_lexer": "ipython3",
   "version": "3.9.7"
  }
 },
 "nbformat": 4,
 "nbformat_minor": 4
}
